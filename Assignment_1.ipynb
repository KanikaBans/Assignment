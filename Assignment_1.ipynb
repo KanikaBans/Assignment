{
 "cells": [
  {
   "cell_type": "markdown",
   "id": "036fee8c",
   "metadata": {},
   "source": [
    "**1. Write a Python program to print \"Hello, World!\"**"
   ]
  },
  {
   "cell_type": "code",
   "execution_count": null,
   "id": "1903bc09",
   "metadata": {},
   "outputs": [],
   "source": [
    "print(\"Hello, World!\")"
   ]
  },
  {
   "cell_type": "markdown",
   "id": "7a1a8520",
   "metadata": {},
   "source": [
    "**2. Write a Python program that displays your name and age.**"
   ]
  },
  {
   "cell_type": "code",
   "execution_count": null,
   "id": "d25c5c1c",
   "metadata": {},
   "outputs": [],
   "source": [
    "print(\"My name is Aparna Parihar and my age is 24.\")"
   ]
  },
  {
   "cell_type": "markdown",
   "id": "c158209c",
   "metadata": {},
   "source": [
    "**3. Write code to print all the pre-defined keywords in Python using the keyword library.**"
   ]
  },
  {
   "cell_type": "code",
   "execution_count": null,
   "id": "76e5aa6d",
   "metadata": {},
   "outputs": [],
   "source": [
    "import keyword\n",
    "print(keyword.kwlist)"
   ]
  },
  {
   "cell_type": "markdown",
   "id": "96e13817",
   "metadata": {},
   "source": [
    "* import keyword\n",
    " -This statement imports Python's built-in keyword module. The keyword module provides functions that deal with Python language keywords—words reserved by Python that cannot be used as variable names, function names, or identifiers. Examples include if, else, for, while, etc.\n",
    "\n",
    "* print(keyword.kwlist)\n",
    " -Here, keyword.kwlist is a list contained within the keyword module. It stores all the reserved keywords of the version of Python you are using.\n",
    "By calling print(keyword.kwlist), you display the complete list of reserved keywords to the console."
   ]
  },
  {
   "cell_type": "markdown",
   "id": "43942b55",
   "metadata": {},
   "source": [
    "**4. Write a program that checks if a given word is a Python keyword.**"
   ]
  },
  {
   "cell_type": "code",
   "execution_count": null,
   "id": "c74d9ac9",
   "metadata": {},
   "outputs": [],
   "source": [
    "import keyword\n",
    "\n",
    "word = input(\"Enter the word to check if it is a keyword or not:\")\n",
    "\n",
    "if word in keyword.kwlist:\n",
    "    print(f\"{word} is a keyword.\")\n",
    "\n",
    "else:\n",
    "    print(f\"{word} is not a keyword.\")"
   ]
  },
  {
   "cell_type": "markdown",
   "id": "8e2d0dcd",
   "metadata": {},
   "source": [
    "* The f in front of a string in Python denotes an f-string, which stands for formatted string literal.\n",
    "\n",
    "* Why f is used:\n",
    "It allows you to embed expressions and variables directly inside a string by placing them within curly braces {}.\n",
    "\n",
    "* Python evaluates the expressions inside {} at runtime and replaces them with their values."
   ]
  },
  {
   "cell_type": "markdown",
   "id": "cce0cc1f",
   "metadata": {},
   "source": [
    "**5. Create a list and tuple in Python, and demonstrate how attempting to change an element works differently for each.**"
   ]
  },
  {
   "cell_type": "markdown",
   "id": "d3636ae7",
   "metadata": {},
   "source": [
    "* Lists: mutable, elements can be changed.\n",
    "\n",
    "* Tuples: immutable, elements cannot be changed once set."
   ]
  },
  {
   "cell_type": "code",
   "execution_count": null,
   "id": "36859854",
   "metadata": {},
   "outputs": [],
   "source": [
    "A_list = [\"a\",\"b\",\"c\"]    # creating a list\n",
    "print(A_list)            # printing the list before modification\n",
    "\n",
    "A_tuple = (\"a\",\"b\",\"c\")   # creating a tuple\n",
    "print(A_tuple)          # printing the tuple before modification\n",
    "\n",
    "A_list[1] = \"e\" # modifying the list\n",
    "print(A_list)            # printing the list after modification\n",
    "\n",
    "try:\n",
    "    A_tuple[1] = \"e\" # trying to modify the tuple\n",
    "\n",
    "except TypeError as e:\n",
    "    print(\"There's an Error with tuple: \", e)            # printing the error message"
   ]
  },
  {
   "cell_type": "markdown",
   "id": "4d9eaee8",
   "metadata": {},
   "source": [
    "* A_list[1] = \"e\" changes the element at index 1 (the second element) of the list A_list[1] to \"e\".\n",
    "\n",
    "* try:\n",
    "    A_tuple[1] = \"e\" # trying to modify the tuple\n",
    "\n",
    "except TypeError as e:\n",
    "    print(\"There's an Error with tuple: \", e)\n",
    "- Trying to assign a new value to an element inside a tuple raises a TypeError.\n",
    "- The code catches this error using a try-except block. When the error occurs, the program prints the error message instead of crashing."
   ]
  },
  {
   "cell_type": "markdown",
   "id": "335fb9fd",
   "metadata": {},
   "source": [
    "**6. Write a function to demonstrate the behavior of mutable and immutable arguments.**"
   ]
  },
  {
   "cell_type": "markdown",
   "id": "96546c4f",
   "metadata": {},
   "source": [
    "Behavior of Mutable and Immutable objects as Function Arguments:\n",
    "* When you pass a mutable object to a function, the reference to the object is passed, meaning the function works with the original object. Any modification inside the function will reflect outside the function.\n",
    "\n",
    "* When you pass an immutable object to a function, the value is passed, but since the object cannot be changed, attempts to modify it inside the function will create a new object locally, leaving the original unchanged."
   ]
  },
  {
   "cell_type": "code",
   "execution_count": null,
   "id": "f5158fb7",
   "metadata": {},
   "outputs": [],
   "source": [
    "a = 10  # an integer is immutable when passed as an argument\n",
    "\n",
    "A_list = [1,2,3]    # list is mutable when passed as an argument\n",
    "\n",
    "def modify_agrs(x,y):\n",
    "    x = x+1\n",
    "    y.append(4)\n",
    "    return x,y\n",
    "\n",
    "print(\"Before calling the function the values of a and A_list outside the function: \", a, A_list)  # a is 10, A_list is [1,2,3]\n",
    "print(\"Inside the function:\",modify_agrs(a,A_list))\n",
    "print(\"After calling the function the values of a and A_list outside the function: \", a, A_list)  # a is 10, A_list is [1,2,3,4]  "
   ]
  },
  {
   "cell_type": "markdown",
   "id": "6c780e8b",
   "metadata": {},
   "source": [
    "**7. Write a program that performs basic arithmetic operations on two user-input numbers.**"
   ]
  },
  {
   "cell_type": "code",
   "execution_count": null,
   "id": "b6bd9bed",
   "metadata": {},
   "outputs": [],
   "source": [
    "a = int(input(\"Enter the first number: \"))\n",
    "b = int(input(\"Enter the second number: \"))\n",
    "\n",
    "# Sum:\n",
    "sum = a+b\n",
    "print(\"Sum: \", sum)\n",
    "\n",
    "# Difference:\n",
    "differ = a-b\n",
    "print(\"Difference: \", differ)\n",
    "\n",
    "# Product:\n",
    "product = a*b\n",
    "print(\"Product: \", product)\n",
    "\n",
    "# Quotient:\n",
    "re_quo = a/b\n",
    "print(\"Regular Quotient: \", re_quo)\n",
    "\n",
    "flr_quo = a//b\n",
    "print(\"Floor Quotient: \", flr_quo)\n",
    "\n",
    "# Remainder:\n",
    "remainder = a%b\n",
    "print(\"Remainder: \", remainder)"
   ]
  },
  {
   "cell_type": "markdown",
   "id": "dba0cb2e",
   "metadata": {},
   "source": [
    "**8. Write a program to demonstrate the use of logical operators.**"
   ]
  },
  {
   "cell_type": "code",
   "execution_count": null,
   "id": "58f1a9c7",
   "metadata": {},
   "outputs": [],
   "source": [
    "a = 5\n",
    "b = 7\n",
    "\n",
    "# and\n",
    "print(a>10 and b<10) # False because a is not greater than 10\n",
    "\n",
    "# or\n",
    "print(a<10 or b>a) # True because b is greater than a   \n",
    "\n",
    "# not\n",
    "print(not a<b) # False because a is not less than b\n",
    "print(not b<a) # True because b is not less than a"
   ]
  },
  {
   "cell_type": "markdown",
   "id": "81fbcc57",
   "metadata": {},
   "source": [
    "**9. Write a Python program to convert user input from string to integer, float, and boolean types.**"
   ]
  },
  {
   "cell_type": "code",
   "execution_count": null,
   "id": "f6c0229c",
   "metadata": {},
   "outputs": [],
   "source": [
    "a = input(\"Enter something:\")\n",
    "print(\"The datatype of the input is:\", type(a))\n",
    "\n",
    "# Coversion to integer\n",
    "try:\n",
    "    int_a = int(a)\n",
    "    print(\"Interger value: \", int_a)\n",
    "    print(type(int_a))\n",
    "except:\n",
    "    print(\"Invalid input, cannot convert to integer!\")\n",
    "\n",
    "# Coversion to float\n",
    "try:\n",
    "    float_a = float(a)\n",
    "    print(\"Float value: \", float_a)\n",
    "    print(type(float_a))\n",
    "except:\n",
    "    print(\"Invalid input, cannot convert to flaot!\")\n",
    "\n",
    "# Coversion to boolean\n",
    "bool_a = a.lower() in [\"true\", \"yes\", \"y\", \"1\"]  # is checking whether the lowercase version of the user's input matches any of the strings in the list ['true', '1', 'yes', 'y'].\n",
    "print(\"Boolean value: \", bool_a)\n",
    "print(type(bool_a))"
   ]
  },
  {
   "cell_type": "markdown",
   "id": "d3890f0a",
   "metadata": {},
   "source": [
    "**10. Write code to demonstrate type casting with list elements.**"
   ]
  },
  {
   "cell_type": "code",
   "execution_count": null,
   "id": "bbc13e89",
   "metadata": {},
   "outputs": [],
   "source": [
    "string_list = [\"1\",\"2\",\"3\"]\n",
    "print(\"The list before type casting to intergers: \", string_list)\n",
    "print(\"and the type of the original list: \", [type(i) for i in string_list])\n",
    "\n",
    "# type cast to integer\n",
    "integer_list = [int(i) for i in string_list]\n",
    "print(\"The list after type casting to integer: \", integer_list)\n",
    "print(\"and the type of the list after type casting: \", [type(i) for i in integer_list])"
   ]
  },
  {
   "cell_type": "markdown",
   "id": "cc70a57b",
   "metadata": {},
   "source": [
    "**11. Write a program that checks if a number is positive, negative, or zero.**"
   ]
  },
  {
   "cell_type": "code",
   "execution_count": null,
   "id": "24397058",
   "metadata": {},
   "outputs": [],
   "source": [
    "num = float(input(\"Enter any number\"))\n",
    "print(\"The number you entered is: \", num)\n",
    "\n",
    "if num > 0:\n",
    "    print(\"The number is positive\")\n",
    "\n",
    "elif num < 0:\n",
    "    print(\"The number is negative\")\n",
    "\n",
    "else:\n",
    "    print(\"The number is zero\")"
   ]
  },
  {
   "cell_type": "markdown",
   "id": "c8fd4cc2",
   "metadata": {},
   "source": [
    "**12. Write a for loop to print numbers from 1 to 10.**"
   ]
  },
  {
   "cell_type": "code",
   "execution_count": null,
   "id": "e6d74abb",
   "metadata": {},
   "outputs": [],
   "source": [
    "for i in range(1,11):\n",
    "    print(i)"
   ]
  },
  {
   "cell_type": "markdown",
   "id": "389dc44d",
   "metadata": {},
   "source": [
    "**13. Write a Python program to find the sum of all even numbers between 1 and 50.**"
   ]
  },
  {
   "cell_type": "code",
   "execution_count": null,
   "id": "8f7c4b19",
   "metadata": {},
   "outputs": [],
   "source": [
    "sum = 0\n",
    "\n",
    "for i in range(1, 51):\n",
    "    if i % 2 == 0:\n",
    "        sum += i\n",
    "\n",
    "print(sum)"
   ]
  },
  {
   "cell_type": "markdown",
   "id": "5766b698",
   "metadata": {},
   "source": [
    "**14. Write a program to reverse a string using a while loop.**"
   ]
  },
  {
   "cell_type": "code",
   "execution_count": null,
   "id": "dd3c50ed",
   "metadata": {},
   "outputs": [],
   "source": [
    "my_str = input(\"Enter a String\")\n",
    "print(\"The string you entered is: \",my_str)\n",
    "\n",
    "rev_str = \"\"\n",
    "i = len(my_str) - 1  # Start from the end of the string (for reverse iteration)\n",
    "\n",
    "while i>=0:\n",
    "    rev_str = rev_str + my_str[i]  # or rev_str += my_str[i]\n",
    "    i = i - 1\n",
    "\n",
    "print(\"The reversed string is: \", rev_str)"
   ]
  },
  {
   "cell_type": "markdown",
   "id": "1045a2f7",
   "metadata": {},
   "source": [
    "**15. Write a Python program to calculate the factorial of a number provided by the user using a while loop.**"
   ]
  },
  {
   "cell_type": "code",
   "execution_count": null,
   "id": "d757c23d",
   "metadata": {},
   "outputs": [],
   "source": [
    "num = int(input(\"Enter an integer\"))\n",
    "print(\"The integer you entered is: \", num)\n",
    "\n",
    "my_fact = 1\n",
    "\n",
    "while num > 0:\n",
    "    my_fact *= num\n",
    "    num -= 1\n",
    "\n",
    "print(my_fact)"
   ]
  },
  {
   "cell_type": "markdown",
   "id": "127006b3",
   "metadata": {},
   "source": [
    "Assignment Completed."
   ]
  },
  {
   "cell_type": "markdown",
   "id": "c16a96d9",
   "metadata": {},
   "source": [
    "**Thank you!**"
   ]
  }
 ],
 "metadata": {
  "kernelspec": {
   "display_name": "Python 3",
   "language": "python",
   "name": "python3"
  },
  "language_info": {
   "codemirror_mode": {
    "name": "ipython",
    "version": 3
   },
   "file_extension": ".py",
   "mimetype": "text/x-python",
   "name": "python",
   "nbconvert_exporter": "python",
   "pygments_lexer": "ipython3",
   "version": "3.13.3"
  }
 },
 "nbformat": 4,
 "nbformat_minor": 5
}
